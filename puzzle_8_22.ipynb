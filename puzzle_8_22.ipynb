{
 "cells": [
  {
   "cell_type": "code",
   "execution_count": 2,
   "id": "a93ac313",
   "metadata": {
    "scrolled": true
   },
   "outputs": [],
   "source": [
    "import numpy as np"
   ]
  },
  {
   "cell_type": "markdown",
   "id": "4fc4667d",
   "metadata": {},
   "source": [
    "I seperated this problem into two parts\n",
    "1. find the expected number of steps on the football\n",
    "2. find the probability, that the number of steps is less or equal on the kitchen floor.\n",
    "The inverse of this probability is the value we are looking for"
   ]
  },
  {
   "cell_type": "markdown",
   "id": "85e7ee7e",
   "metadata": {},
   "source": [
    "## 1. Step: get the expected number of steps on the ball"
   ]
  },
  {
   "cell_type": "markdown",
   "id": "03d5da86",
   "metadata": {},
   "source": [
    "The ball can be represented by a graph of pentagons.\n",
    "if you mark a random node x with 0 and every other node with the shortest distance to x you observe the following pattern:\n",
    "\n",
    "node:  neighbours:\n",
    "0      1,1,1\n",
    "1      0,2,2\n",
    "2      1,2,3\n",
    "3      2,3,4\n",
    "4      3,3,5\n",
    "5      4,4,4"
   ]
  },
  {
   "cell_type": "markdown",
   "id": "1d72cf03",
   "metadata": {},
   "source": [
    "The graph can then be collapsed to the graph with the following adjazenzy matrix:"
   ]
  },
  {
   "cell_type": "code",
   "execution_count": 3,
   "id": "c1239f27",
   "metadata": {},
   "outputs": [],
   "source": [
    "A =    [[0  , 1  , 0  , 0  , 0  , 0 ],\n",
    "        [1/3, 0  , 2/3, 0  , 0  , 0  ],\n",
    "        [0  , 1/3, 1/3, 1/3, 0  , 0  ],\n",
    "        [0  , 0  , 1/3, 1/3, 1/3, 0  ],\n",
    "        [0  , 0  , 0  , 2/3, 0  , 1/3],\n",
    "        [0  , 0  , 0  , 0  , 1  , 0  ]]"
   ]
  },
  {
   "cell_type": "markdown",
   "id": "a4f2477f",
   "metadata": {},
   "source": [
    "Let $p_{i,j}$ be the probability to transition from state i to state j, which corresponds to the the $(i,j)^th$ element in the adjazenzy matrix.\n",
    "\n",
    "Let $E_i$ be the expected number of steps to reach an absorbing state from state i. (absorbing state = state that has no outgoing edges) "
   ]
  },
  {
   "cell_type": "markdown",
   "id": "8086e302",
   "metadata": {},
   "source": [
    "Then $E_i$ must satisfy the following equation:\n",
    "\n",
    "$E_i = 1 + p_{i,1}E_1 + p_{i,2}E_2 + ... + p_{i,n}E_n = 1 + \\sum_{j = 1}^{n} p_{i,j}E_j$"
   ]
  },
  {
   "cell_type": "markdown",
   "id": "924ea3dd",
   "metadata": {},
   "source": [
    "$E_i$ corresponds to the dot product of the Expected Value Vector and the i-th row of the adjazenzy matrix + 1.\n",
    "\n",
    "We can derive the following formula:"
   ]
  },
  {
   "cell_type": "raw",
   "id": "2c1dd8be",
   "metadata": {},
   "source": [
    "E: Expected value vector\n",
    "A: Adjazenzy matrix\n",
    "I: Unit Matrix\n",
    "\n",
    "E = 1 + A*E\n",
    "E-(A*E) = 1\n",
    "I*E - A*E = 1\n",
    "(I-A)*E = 1"
   ]
  },
  {
   "cell_type": "markdown",
   "id": "e53ce6dd",
   "metadata": {},
   "source": [
    "We still have the Problem, that 0 is no absorbing state. Thus we delete all outgoing edges to other states:"
   ]
  },
  {
   "cell_type": "code",
   "execution_count": 4,
   "id": "4f1cf0be",
   "metadata": {},
   "outputs": [],
   "source": [
    "A =    [[1  , 0  , 0  , 0  , 0  , 0 ],\n",
    "        [1/3, 0  , 2/3, 0  , 0  , 0  ],\n",
    "        [0  , 1/3, 1/3, 1/3, 0  , 0  ],\n",
    "        [0  , 0  , 1/3, 1/3, 1/3, 0  ],\n",
    "        [0  , 0  , 0  , 2/3, 0  , 1/3],\n",
    "        [0  , 0  , 0  , 0  , 1  , 0  ]]"
   ]
  },
  {
   "cell_type": "markdown",
   "id": "8fed264d",
   "metadata": {},
   "source": [
    "If we look closely we see that I-A will lead to the first row only containing zeros which makes the equation system not solvable. To compensate for this we remove the first row and first column, solve for $E_1$ and because we will transition from state 0 to state 1 with 100% we get: $E_0 = 1 + E_1$"
   ]
  },
  {
   "cell_type": "code",
   "execution_count": 5,
   "id": "897d1174",
   "metadata": {},
   "outputs": [],
   "source": [
    "A =    [[0  , 2/3, 0  , 0  , 0  ],\n",
    "        [1/3, 1/3, 1/3, 0  , 0  ],\n",
    "        [0  , 1/3, 1/3, 1/3, 0  ],\n",
    "        [0  , 0  , 2/3, 0  , 1/3],\n",
    "        [0  , 0  , 0  , 1  , 0  ]]\n",
    "A = np.matrix(A)"
   ]
  },
  {
   "cell_type": "code",
   "execution_count": 6,
   "id": "38ee0070",
   "metadata": {},
   "outputs": [],
   "source": [
    "I =    [[1 , 0 , 0 , 0 ,0],\n",
    "        [0 , 1 , 0 , 0 ,0],\n",
    "        [0 , 0 , 1 , 0 ,0],\n",
    "        [0 , 0 , 0 , 1 ,0],\n",
    "        [0 , 0 , 0 , 0 ,1]]\n",
    "I = np.matrix(I)"
   ]
  },
  {
   "cell_type": "code",
   "execution_count": 7,
   "id": "4cc99a3c",
   "metadata": {},
   "outputs": [],
   "source": [
    "one = [[1],[1],[1],[1],[1]]\n",
    "one = np.matrix(one)"
   ]
  },
  {
   "cell_type": "code",
   "execution_count": 8,
   "id": "bed8ed8c",
   "metadata": {
    "scrolled": true
   },
   "outputs": [
    {
     "data": {
      "text/plain": [
       "matrix([[19.],\n",
       "        [27.],\n",
       "        [32.],\n",
       "        [34.],\n",
       "        [35.]])"
      ]
     },
     "execution_count": 8,
     "metadata": {},
     "output_type": "execute_result"
    }
   ],
   "source": [
    "E = np.linalg.solve(I-A, one)\n",
    "E"
   ]
  },
  {
   "cell_type": "code",
   "execution_count": 9,
   "id": "598e4a2c",
   "metadata": {},
   "outputs": [
    {
     "name": "stdout",
     "output_type": "stream",
     "text": [
      "The expected number of steps starting at position 0 is: [[20.]]\n"
     ]
    }
   ],
   "source": [
    "E_0 = E[0] +1\n",
    "print(\"The expected number of steps starting at position 0 is: \" + str(E_0))"
   ]
  },
  {
   "cell_type": "markdown",
   "id": "99fabc65",
   "metadata": {},
   "source": [
    "## 2. Step 2: Porobability of walking more than 20 steps on the kitchen floor"
   ]
  },
  {
   "cell_type": "code",
   "execution_count": 10,
   "id": "7df9c2d4",
   "metadata": {},
   "outputs": [],
   "source": [
    "from fractions import Fraction"
   ]
  },
  {
   "cell_type": "code",
   "execution_count": 11,
   "id": "ef5746cc",
   "metadata": {},
   "outputs": [],
   "source": [
    "onethird = Fraction(1)/Fraction(3)\n",
    "twothird = Fraction(2)/Fraction(3)\n",
    "\n",
    "def step(state, steps, prob, path_probs , path):\n",
    "    path += str(state)+ \", \"\n",
    "    \n",
    "    if(state > steps):\n",
    "        return;\n",
    "    \n",
    "    if(state == steps):\n",
    "        if(state == 1):\n",
    "            l.append(prob*onethird)\n",
    "            #print(path + \"0 | \" + str(prob*onethird))\n",
    "            \n",
    "        elif (state%2 == 0):\n",
    "            step(state-1, steps-1, prob*onethird, path_probs, path)\n",
    "        \n",
    "        else:\n",
    "            step(state-1, steps-1, prob*twothird, path_probs, path)\n",
    "    else:\n",
    "        if(state == 0):\n",
    "            step(1, steps-1, prob, path_probs, path)\n",
    "        \n",
    "        elif(state == 1):\n",
    "            step(state+1, steps-1, prob*twothird, path_probs, path)\n",
    "            \n",
    "        elif(state % 2 == 0):\n",
    "            step(state -1, steps-1, prob*onethird, path_probs, path)\n",
    "            step(state +1, steps-1, prob*twothird, path_probs, path)\n",
    "        else:\n",
    "            step(state -1, steps-1, prob*twothird, path_probs, path)\n",
    "            step(state +1, steps-1, prob*onethird, path_probs, path)\n",
    "            \n",
    "    "
   ]
  },
  {
   "cell_type": "code",
   "execution_count": 12,
   "id": "a77d761c",
   "metadata": {},
   "outputs": [
    {
     "name": "stdout",
     "output_type": "stream",
     "text": [
      "451116820/1162261467\n",
      "0.3881371213006066\n"
     ]
    }
   ],
   "source": [
    "l = []\n",
    "\n",
    "for i in range(1,21):\n",
    "    #print(\"steps: \" + str(i))\n",
    "    step(0, i, Fraction(1), l,  \"\")\n",
    "\n",
    "s = Fraction(0)\n",
    "for p in l:\n",
    "    s += p\n",
    "\n",
    "probability = Fraction(1) - s\n",
    "\n",
    "print(probability)\n",
    "print(float(probability))\n",
    "\n"
   ]
  },
  {
   "cell_type": "markdown",
   "id": "e4d72b49",
   "metadata": {},
   "source": [
    "With a probability of 38.81371% the ant will take more steps on the kitchen floor"
   ]
  }
 ],
 "metadata": {
  "kernelspec": {
   "display_name": "Python 3 (ipykernel)",
   "language": "python",
   "name": "python3"
  },
  "language_info": {
   "codemirror_mode": {
    "name": "ipython",
    "version": 3
   },
   "file_extension": ".py",
   "mimetype": "text/x-python",
   "name": "python",
   "nbconvert_exporter": "python",
   "pygments_lexer": "ipython3",
   "version": "3.10.2"
  }
 },
 "nbformat": 4,
 "nbformat_minor": 5
}
